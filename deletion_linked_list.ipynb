{
  "nbformat": 4,
  "nbformat_minor": 0,
  "metadata": {
    "colab": {
      "provenance": [],
      "authorship_tag": "ABX9TyNK+e39pnKMjYykjssoyQtg",
      "include_colab_link": true
    },
    "kernelspec": {
      "name": "python3",
      "display_name": "Python 3"
    },
    "language_info": {
      "name": "python"
    }
  },
  "cells": [
    {
      "cell_type": "markdown",
      "metadata": {
        "id": "view-in-github",
        "colab_type": "text"
      },
      "source": [
        "<a href=\"https://colab.research.google.com/github/ritikkr99/data-structure-and-algorithms-python-/blob/main/deletion_linked_list.ipynb\" target=\"_parent\"><img src=\"https://colab.research.google.com/assets/colab-badge.svg\" alt=\"Open In Colab\"/></a>"
      ]
    },
    {
      "cell_type": "markdown",
      "source": [
        "# **Deletion in Linked List**"
      ],
      "metadata": {
        "id": "tUbBrQ90j5ZA"
      }
    },
    {
      "cell_type": "markdown",
      "source": [
        "*  delete from the beginning"
      ],
      "metadata": {
        "id": "3ofZ-Y2RkaNL"
      }
    },
    {
      "cell_type": "code",
      "execution_count": 3,
      "metadata": {
        "colab": {
          "base_uri": "https://localhost:8080/"
        },
        "id": "zNmLFA6wjxND",
        "outputId": "b9f3dab1-26c3-4385-8f55-1189f52dcdb4"
      },
      "outputs": [
        {
          "output_type": "stream",
          "name": "stdout",
          "text": [
            "5 7 9 "
          ]
        }
      ],
      "source": [
        "#creatig a Node class\n",
        "class Node:\n",
        "  def __init__(self,data):\n",
        "    self.data = data\n",
        "    self.next = None\n",
        "  \n",
        "class LinkedList:\n",
        "  def __init__(self):\n",
        "    self.head = None\n",
        "\n",
        "  def printList(self):\n",
        "    temp = self.head\n",
        "    while(temp):\n",
        "      print(temp.data,end = ' ')\n",
        "      temp = temp.next\n",
        "\n",
        "  def delete_at_begin(self):\n",
        "    a = self.head\n",
        "    self.head = a.next\n",
        "    a.next = None\n",
        "    \n",
        "if __name__ == '__main__':\n",
        "  ll = LinkedList()\n",
        "\n",
        "  ll.head = Node(3)\n",
        "  second = Node(5)\n",
        "  third = Node(7)\n",
        "  fourth = Node(9)\n",
        "\n",
        "  ll.head.next = second\n",
        "  second.next = third\n",
        "  third.next = fourth\n",
        "  ll.delete_at_begin()\n",
        "  ll.printList()"
      ]
    },
    {
      "cell_type": "markdown",
      "source": [
        "*  delete from the end"
      ],
      "metadata": {
        "id": "yNlkapjQzT2Y"
      }
    },
    {
      "cell_type": "code",
      "source": [
        "#creatig a Node class\n",
        "class Node:\n",
        "  def __init__(self,data):\n",
        "    self.data = data\n",
        "    self.next = None\n",
        "  \n",
        "class LinkedList:\n",
        "  def __init__(self):\n",
        "    self.head = None\n",
        "\n",
        "  def printList(self):\n",
        "    temp = self.head\n",
        "    while(temp):\n",
        "      print(temp.data,end = ' ')\n",
        "      temp = temp.next\n",
        "\n",
        "  def delete_from_end(self):\n",
        "    prev = self.head\n",
        "    a = self.head.next\n",
        "    while a.next is not None:\n",
        "      a = a.next\n",
        "      prev = prev.next\n",
        "    prev.next = None\n",
        "    \n",
        "if __name__ == '__main__':\n",
        "  ll = LinkedList()\n",
        "\n",
        "  ll.head = Node(3)\n",
        "  second = Node(5)\n",
        "  third = Node(7)\n",
        "  fourth = Node(9)\n",
        "\n",
        "  ll.head.next = second\n",
        "  second.next = third\n",
        "  third.next = fourth\n",
        "  ll.delete_from_end()\n",
        "  ll.printList()"
      ],
      "metadata": {
        "colab": {
          "base_uri": "https://localhost:8080/"
        },
        "id": "YbWuUoTOzWsB",
        "outputId": "a292fb06-3fcf-44af-c6b0-286715fcf8a0"
      },
      "execution_count": 6,
      "outputs": [
        {
          "output_type": "stream",
          "name": "stdout",
          "text": [
            "3 5 7 "
          ]
        }
      ]
    },
    {
      "cell_type": "markdown",
      "source": [
        "*  delete from a given position"
      ],
      "metadata": {
        "id": "HhfQBVZS0GHP"
      }
    },
    {
      "cell_type": "code",
      "source": [
        "#creatig a Node class\n",
        "class Node:\n",
        "  def __init__(self,data):\n",
        "    self.data = data\n",
        "    self.next = None\n",
        "  \n",
        "class LinkedList:\n",
        "  def __init__(self):\n",
        "    self.head = None\n",
        "\n",
        "  def printList(self):\n",
        "    temp = self.head\n",
        "    while(temp):\n",
        "      print(temp.data,end = ' ')\n",
        "      temp = temp.next\n",
        "\n",
        "  def delete_from_given(self,position):\n",
        "    prev = self.head\n",
        "    a = self.head.next\n",
        "    for i in range(1,position-1):\n",
        "      a = a.next\n",
        "      prev = prev.next\n",
        "    prev.next = a.next\n",
        "    a.next = None\n",
        "    \n",
        "if __name__ == '__main__':\n",
        "  ll = LinkedList()\n",
        "\n",
        "  ll.head = Node(3)\n",
        "  second = Node(5)\n",
        "  third = Node(7)\n",
        "  fourth = Node(9)\n",
        "\n",
        "  ll.head.next = second\n",
        "  second.next = third\n",
        "  third.next = fourth\n",
        "  ll.delete_from_given(2)\n",
        "  ll.printList()"
      ],
      "metadata": {
        "colab": {
          "base_uri": "https://localhost:8080/"
        },
        "id": "JqGH8Tlf0KSF",
        "outputId": "a75aa9f2-6bd4-4110-d02a-b6887d3a9279"
      },
      "execution_count": 8,
      "outputs": [
        {
          "output_type": "stream",
          "name": "stdout",
          "text": [
            "3 7 9 "
          ]
        }
      ]
    }
  ]
}