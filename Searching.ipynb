{
  "nbformat": 4,
  "nbformat_minor": 0,
  "metadata": {
    "colab": {
      "provenance": [],
      "authorship_tag": "ABX9TyNr9PODifKm4kUSgRkQKZVC",
      "include_colab_link": true
    },
    "kernelspec": {
      "name": "python3",
      "display_name": "Python 3"
    },
    "language_info": {
      "name": "python"
    }
  },
  "cells": [
    {
      "cell_type": "markdown",
      "metadata": {
        "id": "view-in-github",
        "colab_type": "text"
      },
      "source": [
        "<a href=\"https://colab.research.google.com/github/ritikkr99/data-structure-and-algorithms-python-/blob/main/Searching.ipynb\" target=\"_parent\"><img src=\"https://colab.research.google.com/assets/colab-badge.svg\" alt=\"Open In Colab\"/></a>"
      ]
    },
    {
      "cell_type": "markdown",
      "source": [
        "# linear Search\n",
        "\n",
        "*  best time complexity: O(1)\n",
        "*  Average time complexity: O(n)\n",
        "*  Worst time complexity: O(n)\n",
        "*  here all the elements are need to be compared in worst case to search for a given number.\n",
        "*  Best case would be the case where the first element get matched to the element to be searched.\n",
        "*  No auxiliary space is required in linear search implementation.\n",
        "*  Hence space complexity: O(1) "
      ],
      "metadata": {
        "id": "2gChjJBIlagu"
      }
    },
    {
      "cell_type": "code",
      "execution_count": null,
      "metadata": {
        "colab": {
          "base_uri": "https://localhost:8080/"
        },
        "id": "nk3rN9vzkCvk",
        "outputId": "2673f207-46fc-4635-c196-bdf927ebad49"
      },
      "outputs": [
        {
          "output_type": "stream",
          "name": "stdout",
          "text": [
            "element found at index 2\n"
          ]
        }
      ],
      "source": [
        "#iterative approach\n",
        "def linearSearch(arr,length,var):\n",
        "  for i in range(0,length):\n",
        "    if(arr[i]==var):\n",
        "      return i\n",
        "  return -1\n",
        "\n",
        "arr = [1,25,83,44]\n",
        "var = 83\n",
        "length = len(arr)\n",
        "result = linearSearch(arr,length,var)\n",
        "if(result == -1):\n",
        "  print('element not found')\n",
        "else:\n",
        "  print('element found at index',result)"
      ]
    },
    {
      "cell_type": "code",
      "source": [
        "#recursive approach\n",
        "def linear_search(arr, key, size):\n",
        "    if (size == 0):\n",
        "        return -1\n",
        "    elif (arr[size - 1] == key):\n",
        "        # Return the index of found key.\n",
        "        return size - 1\n",
        "    else:\n",
        "        return linear_search(arr, key, size - 1)\n",
        " \n",
        "if __name__ == \"__main__\":\n",
        "    arr = [5, 15, 6, 9, 24]\n",
        "    key = 9\n",
        "    size = len(arr)\n",
        "    ans = linear_search(arr, key, size)  # Calling the Function\n",
        "    if ans != -1:\n",
        "        print(\"The element\", key, \"is found at\",\n",
        "              ans, \"index of the given array.\")\n",
        "    else:\n",
        "        print(\"The element\", key, \"is not found.\")"
      ],
      "metadata": {
        "colab": {
          "base_uri": "https://localhost:8080/"
        },
        "id": "75PcPfOtykMz",
        "outputId": "bcee86e8-46d3-4246-f4dd-17855d5d9aba"
      },
      "execution_count": null,
      "outputs": [
        {
          "output_type": "stream",
          "name": "stdout",
          "text": [
            "The element 9 is found at 3 index of the given array.\n"
          ]
        }
      ]
    },
    {
      "cell_type": "markdown",
      "source": [
        "# Binary Search\n",
        "*  Binary search is a searching technique which is used on sorted array.\n",
        "*  This searching technique follows the divide and conquer strategy and search space is always reduce to half of its iteration.\n",
        "*  It is very effective techinque for searching but it needs some order on which partition of the array will occur\n",
        "*  best time complexity: O(1)\n",
        "*  Average time complexity: O(logN)\n",
        "*  Worst time complexity: O(logN)\n",
        "*  No auxiliary space is required in linear search implementation.\n",
        "*  Hence space complexity: O(1)"
      ],
      "metadata": {
        "id": "Sf-aO-R-neYb"
      }
    },
    {
      "cell_type": "code",
      "source": [
        "#iterative way\n",
        "def binarySearch(array,key):\n",
        "  low =0\n",
        "  high = len(array)-1\n",
        "  while low <= high:\n",
        "    mid = low +(high-low)//2\n",
        "    if array[mid]==key:\n",
        "      return mid\n",
        "    elif array[mid]<key:\n",
        "      low = mid+1\n",
        "    else:\n",
        "      high = mid-1\n",
        "  return -1\n",
        "\n",
        "array = [3,4,5,7,9,11]\n",
        "result = binarySearch(array,9)\n",
        "if result==-1:\n",
        "  print('element not found')\n",
        "else:\n",
        "  print('element found at index: ',result)"
      ],
      "metadata": {
        "colab": {
          "base_uri": "https://localhost:8080/"
        },
        "id": "A1ZKvmlxqG_g",
        "outputId": "0389ede0-889f-47ed-b982-7526228cd33e"
      },
      "execution_count": null,
      "outputs": [
        {
          "output_type": "stream",
          "name": "stdout",
          "text": [
            "element found at index:  4\n"
          ]
        }
      ]
    },
    {
      "cell_type": "code",
      "source": [
        "#recursive way\n",
        "def binarySearch(arr, l, r, x):\n",
        "    if r >= l:\n",
        "        mid = l + (r - l) // 2\n",
        "        if arr[mid] == x:\n",
        "            return mid\n",
        "        elif arr[mid] > x:\n",
        "            return binarySearch(arr, l, mid-1, x)\n",
        "        else:\n",
        "            return binarySearch(arr, mid + 1, r, x)\n",
        " \n",
        "    else:\n",
        "        return -1\n",
        "\n",
        "arr = [2, 3, 4, 10, 40]\n",
        "x = 10\n",
        "\n",
        "result = binarySearch(arr, 0, len(arr)-1, x)\n",
        " \n",
        "if result != -1:\n",
        "    print(\"Element is present at index % d\" % result)\n",
        "else:\n",
        "    print(\"Element is not present in array\")"
      ],
      "metadata": {
        "id": "QjGUZHMA7_UD"
      },
      "execution_count": null,
      "outputs": []
    },
    {
      "cell_type": "markdown",
      "source": [],
      "metadata": {
        "id": "w6d_3Qks1c63"
      }
    },
    {
      "cell_type": "code",
      "source": [],
      "metadata": {
        "id": "SXipKvmL1Z2Q"
      },
      "execution_count": null,
      "outputs": []
    }
  ]
}