{
  "nbformat": 4,
  "nbformat_minor": 0,
  "metadata": {
    "colab": {
      "provenance": [],
      "authorship_tag": "ABX9TyNz0QdOJYJEOyVNIIZf0/wy",
      "include_colab_link": true
    },
    "kernelspec": {
      "name": "python3",
      "display_name": "Python 3"
    },
    "language_info": {
      "name": "python"
    }
  },
  "cells": [
    {
      "cell_type": "markdown",
      "metadata": {
        "id": "view-in-github",
        "colab_type": "text"
      },
      "source": [
        "<a href=\"https://colab.research.google.com/github/ritikkr99/data-structure-and-algorithms-python-/blob/main/sorting.ipynb\" target=\"_parent\"><img src=\"https://colab.research.google.com/assets/colab-badge.svg\" alt=\"Open In Colab\"/></a>"
      ]
    },
    {
      "cell_type": "markdown",
      "source": [
        "# Insertion sort \n",
        "*  it is one of the easiest and brute force solution algorithm.\n",
        "*  Insertion sort is used to sort elements in either ascending or descending order\n",
        "\n",
        "\n",
        "To sort an array of size N in ascending order: \n",
        "\n",
        "\n",
        "*  Iterate from arr[1] to arr[N] over the array. \n",
        "*  Compare the current element (key) to its predecessor. \n",
        "*  If the key element is smaller than its predecessor, compare it to the elements before. Move the greater elements one position up to make space for the swapped element.\n",
        "*  Average Time Complexity: O(N^2) \n",
        "*  Best Time Complexity: O(n)\n",
        "*  Auxiliary Space: O(1)\n",
        "\n",
        "\n",
        "---\n",
        "\n",
        "**What are the Boundary Cases of the Insertion Sort algorithm?**\n",
        "\n",
        "\n",
        "Insertion sort takes maximum time to sort if elements are sorted in reverse order. And it takes minimum time (Order of n) when elements are already sorted. \n",
        "\n",
        "\n",
        "**What are the Algorithmic Paradigm of Insertion Sort algorithm?**\n",
        "\n",
        "\n",
        "Insertion Sort algorithm follows incremental approach.\n",
        "\n",
        "\n",
        "\n",
        "**Is Insertion Sort an in-place sorting algorithm?**\n",
        "\n",
        "\n",
        "Yes, insertion sort is an in-place sorting algorithm.\n",
        "\n",
        "\n",
        "\n",
        "**Is Insertion Sort a stable algorithm?**\n",
        "\n",
        "\n",
        "Yes, insertion sort is a stable sorting algorithm.because its relative position is intact.\n",
        "\n",
        "\n",
        "\n",
        "**When is the Insertion Sort algorithm used?**\n",
        "\n",
        "\n",
        "Insertion sort is used when number of elements is small. It can also be useful when input array is almost sorted, only few elements are misplaced in complete big array."
      ],
      "metadata": {
        "id": "vpIU6NQmkO6d"
      }
    },
    {
      "cell_type": "code",
      "source": [
        "def insertionSort(arr):\n",
        "    for i in range(1, len(arr)):\n",
        "        key = arr[i]\n",
        "        j = i-1\n",
        "        # if you want your array in descending order key > arr[j]\n",
        "        while j >= 0 and key < arr[j] :\n",
        "                arr[j + 1] = arr[j]\n",
        "                j -= 1\n",
        "        arr[j + 1] = key\n",
        "arr = [12, 11, 13, 5, 6]\n",
        "insertionSort(arr)\n",
        "for i in range(len(arr)):\n",
        "    print (arr[i],end = ' ')"
      ],
      "metadata": {
        "colab": {
          "base_uri": "https://localhost:8080/"
        },
        "id": "Xh-iXpakl2G7",
        "outputId": "6d57c218-044e-4522-bcba-e806fbebb937"
      },
      "execution_count": null,
      "outputs": [
        {
          "output_type": "stream",
          "name": "stdout",
          "text": [
            "5 6 11 12 13 "
          ]
        }
      ]
    },
    {
      "cell_type": "markdown",
      "source": [
        "# Selection Sort\n",
        "*  it is simple sort algorithm that revolves around comparison.\n",
        "*  in each iteration,one element get placed.\n",
        "*  Average Time Complexity: O(N^2) \n",
        "*  Best Time Complexity: O(N^2)\n",
        "*  Auxiliary Space: O(1)"
      ],
      "metadata": {
        "id": "800oyA6x6-Lv"
      }
    },
    {
      "cell_type": "code",
      "source": [
        "A = [64, 25, 12, 22, 11]\n",
        "\n",
        "for i in range(len(A)):\n",
        "    min_idx = i\n",
        "    for j in range(i+1, len(A)):\n",
        "        if A[min_idx] > A[j]:\n",
        "            min_idx = j\n",
        "      \n",
        "    A[i], A[min_idx] = A[min_idx], A[i]\n",
        "\n",
        "print (\"Sorted array\")\n",
        "for i in range(len(A)):\n",
        "    print(A[i],end=\" \")"
      ],
      "metadata": {
        "id": "Nd_QCMQEvbXx",
        "outputId": "f7e48372-9d76-44fd-b319-2ab794b34351",
        "colab": {
          "base_uri": "https://localhost:8080/"
        }
      },
      "execution_count": null,
      "outputs": [
        {
          "output_type": "stream",
          "name": "stdout",
          "text": [
            "Sorted array\n",
            "11 12 22 25 64 "
          ]
        }
      ]
    },
    {
      "cell_type": "markdown",
      "source": [
        "# Bubble sort\n",
        "*  repeatedly swapping the adjacent elements if they are in the wrong order.\n",
        "*  Average Time Complexity: O(N^2) \n",
        "*  Best Time Complexity: O(n)\n",
        "*  Auxiliary Space: O(1)\n",
        "\n",
        "\n",
        "---\n",
        "\n",
        "\n",
        "  **What is the Boundary Case for Bubble sort?**\n",
        "\n",
        "\n",
        "Bubble sort takes minimum time (Order of n) when elements are already sorted. Hence it is best to check if the array is already sorted or not beforehand, to avoid O(N2) time complexity.\n",
        "\n",
        "  **Does sorting happen in place in Bubble sort?**\n",
        "\n",
        "\n",
        "Yes, Bubble sort performs the swapping of adjacent pairs without the use of any major data structure. Hence Bubble sort algorithm is an in-place algorithm.\n",
        "\n",
        "  **Is the Bubble sort algorithm stable?**\n",
        "\n",
        "\n",
        "Yes, the bubble sort algorithm is stable.\n",
        "\n",
        " **Where is the Bubble sort algorithm used?**\n",
        "\n",
        "\n",
        "Due to its simplicity, bubble sort is often used to introduce the concept of a sorting algorithm. \n",
        "In computer graphics, it is popular for its capability to detect a tiny error (like a swap of just two elements) in almost-sorted arrays and fix it with just linear \n",
        "complexity (2n). "
      ],
      "metadata": {
        "id": "zEzQaNDkCjIA"
      }
    },
    {
      "cell_type": "code",
      "source": [
        "def bubbleSort(arr):\n",
        "    n = len(arr)\n",
        "    swapped = False\n",
        "    for i in range(n):\n",
        "\n",
        "        for j in range(0, n-i-1):\n",
        "            if arr[j] > arr[j+1]:\n",
        "                arr[j], arr[j+1] = arr[j+1], arr[j]\n",
        "                swapped = True\n",
        "        if (swapped == False):\n",
        "            break\n",
        "\n",
        "if __name__ == \"__main__\":\n",
        "    arr = [64, 34, 25, 12, 22, 11, 90]\n",
        " \n",
        "    bubbleSort(arr)\n",
        " \n",
        "    print(\"Sorted array is:\")\n",
        "    for i in range(len(arr)):\n",
        "        print(arr[i], end=\" \")"
      ],
      "metadata": {
        "id": "eFLCDC1V1P3Q",
        "outputId": "9ef1224f-841a-4efd-c417-6372eb349a84",
        "colab": {
          "base_uri": "https://localhost:8080/"
        }
      },
      "execution_count": null,
      "outputs": [
        {
          "output_type": "stream",
          "name": "stdout",
          "text": [
            "Sorted array is:\n",
            "11 12 22 25 34 64 90 "
          ]
        }
      ]
    },
    {
      "cell_type": "markdown",
      "source": [
        "# Quick Sort\n",
        "\n",
        "*  QuickSort is a Divide and Conquer algorithm. It picks an element as a pivot and partitions the given array around the picked pivot. There are many different versions of quickSort that pick pivot in different ways. \n",
        "\n",
        "*  Always pick the first element as a pivot.\n",
        "*  Always pick the last element as a pivot (implemented below)\n",
        "*  Pick a random element as a pivot.\n",
        "*  Pick median as the pivot.\n"
      ],
      "metadata": {
        "id": "1eVeAYfoNlqx"
      }
    },
    {
      "cell_type": "code",
      "source": [],
      "metadata": {
        "id": "olD3RhiONqtg"
      },
      "execution_count": null,
      "outputs": []
    },
    {
      "cell_type": "markdown",
      "source": [
        "# Merge Sort\n"
      ],
      "metadata": {
        "id": "wK9_Wyo3x1uP"
      }
    },
    {
      "cell_type": "markdown",
      "source": [
        "*  Merge sort is a sorting algorithm that works by dividing an array into smaller subarrays, sorting each subarray, and then merging the sorted subarrays back together to form the final sorted array."
      ],
      "metadata": {
        "id": "zFHJBnq0EnSH"
      }
    },
    {
      "cell_type": "code",
      "source": [],
      "metadata": {
        "id": "cl4IMJLAx6VR"
      },
      "execution_count": null,
      "outputs": []
    }
  ]
}