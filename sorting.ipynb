{
  "nbformat": 4,
  "nbformat_minor": 0,
  "metadata": {
    "colab": {
      "provenance": [],
      "authorship_tag": "ABX9TyMKKINlk8mACVa7hJtxKHKC",
      "include_colab_link": true
    },
    "kernelspec": {
      "name": "python3",
      "display_name": "Python 3"
    },
    "language_info": {
      "name": "python"
    }
  },
  "cells": [
    {
      "cell_type": "markdown",
      "metadata": {
        "id": "view-in-github",
        "colab_type": "text"
      },
      "source": [
        "<a href=\"https://colab.research.google.com/github/ritikkr99/data-structure-and-algorithms-python-/blob/main/sorting.ipynb\" target=\"_parent\"><img src=\"https://colab.research.google.com/assets/colab-badge.svg\" alt=\"Open In Colab\"/></a>"
      ]
    },
    {
      "cell_type": "markdown",
      "source": [
        "# Insertion sort \n",
        "*  it is one of the easiest and brute force solution algorithm.\n",
        "*  Insertion sort is used to sort elements in either ascending or descending order\n",
        "\n",
        "\n",
        "To sort an array of size N in ascending order: \n",
        "\n",
        "\n",
        "*  Iterate from arr[1] to arr[N] over the array. \n",
        "*  Compare the current element (key) to its predecessor. \n",
        "*  If the key element is smaller than its predecessor, compare it to the elements before. Move the greater elements one position up to make space for the swapped element.\n",
        "*  Time Complexity: O(N^2) \n",
        "*  Auxiliary Space: O(1)\n",
        "\n",
        "\n",
        "---\n",
        "\n",
        "**What are the Boundary Cases of the Insertion Sort algorithm?**\n",
        "\n",
        "\n",
        "Insertion sort takes maximum time to sort if elements are sorted in reverse order. And it takes minimum time (Order of n) when elements are already sorted. \n",
        "\n",
        "\n",
        "**What are the Algorithmic Paradigm of Insertion Sort algorithm?**\n",
        "\n",
        "\n",
        "Insertion Sort algorithm follows incremental approach.\n",
        "\n",
        "\n",
        "\n",
        "**Is Insertion Sort an in-place sorting algorithm?**\n",
        "\n",
        "\n",
        "Yes, insertion sort is an in-place sorting algorithm.\n",
        "\n",
        "\n",
        "\n",
        "**Is Insertion Sort a stable algorithm?**\n",
        "\n",
        "\n",
        "Yes, insertion sort is a stable sorting algorithm.\n",
        "\n",
        "\n",
        "\n",
        "**When is the Insertion Sort algorithm used?**\n",
        "\n",
        "\n",
        "Insertion sort is used when number of elements is small. It can also be useful when input array is almost sorted, only few elements are misplaced in complete big array."
      ],
      "metadata": {
        "id": "vpIU6NQmkO6d"
      }
    },
    {
      "cell_type": "code",
      "source": [
        "def insertionSort(arr):\n",
        "    for i in range(1, len(arr)):\n",
        "        key = arr[i]\n",
        "        j = i-1\n",
        "        # if you want your array in descending order key > arr[j]\n",
        "        while j >= 0 and key < arr[j] :\n",
        "                arr[j + 1] = arr[j]\n",
        "                j -= 1\n",
        "        arr[j + 1] = key\n",
        "arr = [12, 11, 13, 5, 6]\n",
        "insertionSort(arr)\n",
        "for i in range(len(arr)):\n",
        "    print (arr[i],end = ' ')"
      ],
      "metadata": {
        "colab": {
          "base_uri": "https://localhost:8080/"
        },
        "id": "Xh-iXpakl2G7",
        "outputId": "6d57c218-044e-4522-bcba-e806fbebb937"
      },
      "execution_count": 3,
      "outputs": [
        {
          "output_type": "stream",
          "name": "stdout",
          "text": [
            "5 6 11 12 13 "
          ]
        }
      ]
    },
    {
      "cell_type": "markdown",
      "source": [
        "# Bubble Sort\n",
        "*  "
      ],
      "metadata": {
        "id": "800oyA6x6-Lv"
      }
    },
    {
      "cell_type": "code",
      "source": [],
      "metadata": {
        "id": "Nd_QCMQEvbXx"
      },
      "execution_count": null,
      "outputs": []
    }
  ]
}