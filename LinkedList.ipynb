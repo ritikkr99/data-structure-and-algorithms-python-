{
  "nbformat": 4,
  "nbformat_minor": 0,
  "metadata": {
    "colab": {
      "provenance": [],
      "authorship_tag": "ABX9TyOuBWF/5vwkzIfHeQvDAbny",
      "include_colab_link": true
    },
    "kernelspec": {
      "name": "python3",
      "display_name": "Python 3"
    },
    "language_info": {
      "name": "python"
    }
  },
  "cells": [
    {
      "cell_type": "markdown",
      "metadata": {
        "id": "view-in-github",
        "colab_type": "text"
      },
      "source": [
        "<a href=\"https://colab.research.google.com/github/ritikkr99/data-structure-and-algorithms-python-/blob/main/LinkedList.ipynb\" target=\"_parent\"><img src=\"https://colab.research.google.com/assets/colab-badge.svg\" alt=\"Open In Colab\"/></a>"
      ]
    },
    {
      "cell_type": "code",
      "execution_count": null,
      "metadata": {
        "colab": {
          "base_uri": "https://localhost:8080/"
        },
        "id": "Hw1VGa1GBgZT",
        "outputId": "c8aa85f3-7dd2-4922-aa81-c361fd4bf6b0"
      },
      "outputs": [
        {
          "output_type": "stream",
          "name": "stdout",
          "text": [
            "2\n",
            "None\n"
          ]
        }
      ],
      "source": [
        "#creating a single node in linked list\n",
        "class n1:\n",
        "  def __init__(self,data):\n",
        "    self.data = data\n",
        "    self.next = None\n",
        "\n",
        "node1 = n1(2)\n",
        "print(node1.data)\n",
        "print(node1.next)\n"
      ]
    },
    {
      "cell_type": "markdown",
      "source": [
        "# **Traverse in a Linked List**"
      ],
      "metadata": {
        "id": "cdTd3AxNfMhi"
      }
    },
    {
      "cell_type": "code",
      "source": [
        "#traverse in a linked list \n",
        "#Node class\n",
        "class Node:\n",
        "  def __init__(self,data):\n",
        "    self.data = data\n",
        "    self.next =  None\n",
        "\n",
        "class linkedlist:\n",
        "  #function to initialize head\n",
        "  def __init__(self):\n",
        "    self.head = None\n",
        "  \n",
        "  #this function print the content of the linked list,starts from head\n",
        "  def printList(self):\n",
        "    temp = self.head\n",
        "    while(temp):\n",
        "      print(temp.data,end=' ')\n",
        "      temp = temp.next\n",
        "\n",
        "if __name__ == '__main__':\n",
        "  #start with the empty list\n",
        "  ll = linkedlist()\n",
        "\n",
        "  ll.head = Node(1)\n",
        "  second = Node(2)\n",
        "  third = Node(3)\n",
        "\n",
        "  ll.head.next = second\n",
        "  second.next = third\n",
        "  \n",
        "  ll.printList()"
      ],
      "metadata": {
        "colab": {
          "base_uri": "https://localhost:8080/"
        },
        "id": "r5agmCJ_Iy0G",
        "outputId": "c0e15b12-a419-457d-d7b5-f7eed01df72d"
      },
      "execution_count": null,
      "outputs": [
        {
          "output_type": "stream",
          "name": "stdout",
          "text": [
            "1 2 3 "
          ]
        }
      ]
    },
    {
      "cell_type": "code",
      "source": [
        "#creatig a Node class\n",
        "class Node:\n",
        "  def __init__(self,data):\n",
        "    self.data = data\n",
        "    self.next = None\n",
        "  \n",
        "class LinkedList:\n",
        "  def __init__(self):\n",
        "    self.head = None\n",
        "\n",
        "  def printList(self):\n",
        "    temp = self.head\n",
        "    while(temp):\n",
        "      print(temp.data,end = ' ')\n",
        "      temp = temp.next\n",
        "\n",
        "    \n",
        "if __name__ == '__main__':\n",
        "  ll = LinkedList()\n",
        "\n",
        "  ll.head = Node(3)\n",
        "  second = Node(5)\n",
        "  third = Node(7)\n",
        "  fourth = Node(9)\n",
        "\n",
        "  ll.head.next = second\n",
        "  second.next = third\n",
        "  third.next = fourth\n",
        "\n",
        "  ll.printList()"
      ],
      "metadata": {
        "id": "fOxV13-VCa01",
        "colab": {
          "base_uri": "https://localhost:8080/"
        },
        "outputId": "34c1b5d0-2771-41cb-c107-53b7f2885baa"
      },
      "execution_count": null,
      "outputs": [
        {
          "output_type": "stream",
          "name": "stdout",
          "text": [
            "3 5 7 9 "
          ]
        }
      ]
    },
    {
      "cell_type": "markdown",
      "source": [
        "# **Insertion in linked List**"
      ],
      "metadata": {
        "id": "S2dMYEtAe7EB"
      }
    },
    {
      "cell_type": "markdown",
      "source": [
        "*  Insertion at the front of linked List"
      ],
      "metadata": {
        "id": "-U3qO7lgfBd5"
      }
    },
    {
      "cell_type": "code",
      "source": [
        "class Node:\n",
        "  def __init__(self,data):\n",
        "    self.data = data\n",
        "    self.next = None\n",
        "  \n",
        "class LinkedList:\n",
        "  def __init__(self):\n",
        "    self.head = None\n",
        "    \n",
        "  #function  to add new node at the front \n",
        "  def push(self,new_data):\n",
        "    new_node = Node(new_data) \n",
        "    new_node.next = self.head\n",
        "    self.head = new_node\n",
        "\n",
        "  def printList(self):\n",
        "    temp = self.head\n",
        "    while(temp):\n",
        "      print(temp.data,end = ' ')\n",
        "      temp = temp.next\n",
        "\n",
        "    \n",
        "if __name__ == '__main__':\n",
        "  ll = LinkedList()\n",
        "\n",
        "  ll.head = Node(3)\n",
        "  second = Node(5)\n",
        "  third = Node(7)\n",
        "  fourth = Node(9)\n",
        "\n",
        "  ll.head.next = second\n",
        "  second.next = third\n",
        "  third.next = fourth\n",
        "\n",
        "  ll.push(1)\n",
        "  ll.printList()\n",
        "\n"
      ],
      "metadata": {
        "colab": {
          "base_uri": "https://localhost:8080/"
        },
        "id": "9q9pod3jSOGQ",
        "outputId": "1400665f-54d2-4e81-e2c4-d11a6501332c"
      },
      "execution_count": null,
      "outputs": [
        {
          "output_type": "stream",
          "name": "stdout",
          "text": [
            "1 3 5 7 9 "
          ]
        }
      ]
    },
    {
      "cell_type": "markdown",
      "source": [
        "*  Insertion at the given node"
      ],
      "metadata": {
        "id": "7m_GDhdRgxs0"
      }
    },
    {
      "cell_type": "code",
      "source": [
        "class Node:\n",
        "  def __init__(self,data):\n",
        "    self.data = data\n",
        "    self.next = None\n",
        "  \n",
        "class LinkedList:\n",
        "  def __init__(self):\n",
        "    self.head = None\n",
        "\n",
        "  def insertAfter(self,prev_node,new_data):\n",
        "    new_node = Node(new_data)\n",
        "    new_node.next = prev_node.next\n",
        "    prev_node.next = new_node\n",
        "\n",
        "  def printList(self):\n",
        "    temp = self.head\n",
        "    while(temp):\n",
        "      print(temp.data,end = ' ')\n",
        "      temp = temp.next\n",
        "\n",
        "if __name__ == '__main__':\n",
        "  ll = LinkedList()\n",
        "\n",
        "  ll.head = Node(3)\n",
        "  second = Node(5)\n",
        "  third = Node(7)\n",
        "  fourth = Node(9)\n",
        "\n",
        "  ll.head.next = second\n",
        "  second.next = third\n",
        "  third.next = fourth\n",
        "\n",
        "  ll.insertAfter(second.next,8)\n",
        "  ll.printList()"
      ],
      "metadata": {
        "colab": {
          "base_uri": "https://localhost:8080/"
        },
        "id": "szIJVwFgB_YL",
        "outputId": "a3fc6159-7bc3-4435-9956-e3f07d13c1a3"
      },
      "execution_count": null,
      "outputs": [
        {
          "output_type": "stream",
          "name": "stdout",
          "text": [
            "3 5 7 9 "
          ]
        }
      ]
    },
    {
      "cell_type": "code",
      "source": [
        "class Node:\n",
        "  def __init__(self,data):\n",
        "    self.data = data\n",
        "    self.next = None\n",
        "  \n",
        "class LinkedList:\n",
        "  def __init__(self):\n",
        "    self.head = None\n",
        "\n",
        "  def insertSpecificNode(self,position,new_data):\n",
        "    new_node = Node(new_data)\n",
        "    a = self.head #temporary variable\n",
        "    for i in range(1,position-1):\n",
        "      a = a.next\n",
        "    new_node.next = a.next\n",
        "    a.next = new_node\n",
        "\n",
        "  def printList(self):\n",
        "    temp = self.head\n",
        "    while(temp):\n",
        "      print(temp.data,end = ' ')\n",
        "      temp = temp.next\n",
        "\n",
        "if __name__ == '__main__':\n",
        "  ll = LinkedList()\n",
        "\n",
        "  ll.head = Node(3)\n",
        "  second = Node(5)\n",
        "  third = Node(7)\n",
        "  fourth = Node(9)\n",
        "\n",
        "  ll.head.next = second\n",
        "  second.next = third\n",
        "  third.next = fourth\n",
        "\n",
        "  ll.insertSpecificNode(3,8)\n",
        "  ll.printList()"
      ],
      "metadata": {
        "colab": {
          "base_uri": "https://localhost:8080/"
        },
        "id": "9LyGATrEG5yK",
        "outputId": "aeef2074-f42c-4051-bb8a-0524d98c3c6c"
      },
      "execution_count": null,
      "outputs": [
        {
          "output_type": "stream",
          "name": "stdout",
          "text": [
            "3 5 8 7 9 "
          ]
        }
      ]
    },
    {
      "cell_type": "markdown",
      "source": [
        "*  Insertion at the end"
      ],
      "metadata": {
        "id": "Y-hJ-UIDDXci"
      }
    },
    {
      "cell_type": "code",
      "source": [
        "class Node:\n",
        "  def __init__(self,data):\n",
        "    self.data = data\n",
        "    self.next = None\n",
        "  \n",
        "class LinkedList:\n",
        "  def __init__(self):\n",
        "    self.head = None\n",
        "\n",
        "  def append(self,new_data):\n",
        "    new_node = Node(new_data)\n",
        "    # if linked List is empty then make head as new node\n",
        "    if self.head is None:\n",
        "      self.head = new_node\n",
        "      return\n",
        "\n",
        "    last = self.head\n",
        "    while(last.next):\n",
        "      last = last.next\n",
        "\n",
        "    last.next = new_node\n",
        "    # to print the linked list\n",
        "  def printList(self):\n",
        "    temp = self.head\n",
        "    while(temp):\n",
        "      print(temp.data,end=' ')\n",
        "      temp = temp.next\n",
        "      \n",
        "if __name__ == '__main__':\n",
        "  ll = LinkedList()\n",
        "\n",
        "  ll.head = Node(3)\n",
        "  second = Node(5)\n",
        "  third = Node(7)\n",
        "  fourth = Node(9)\n",
        "\n",
        "  ll.head.next = second\n",
        "  second.next = third\n",
        "  third.next = fourth\n",
        "\n",
        "  ll.append(11)\n",
        "  ll.printList()"
      ],
      "metadata": {
        "colab": {
          "base_uri": "https://localhost:8080/"
        },
        "id": "hv9nodZNDWTy",
        "outputId": "a48035e2-0f1f-48b8-f528-d41f9934e050"
      },
      "execution_count": null,
      "outputs": [
        {
          "output_type": "stream",
          "name": "stdout",
          "text": [
            "3 5 7 9 11 "
          ]
        }
      ]
    }
  ]
}